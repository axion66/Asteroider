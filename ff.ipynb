{
 "cells": [
  {
   "cell_type": "code",
   "execution_count": 25,
   "metadata": {},
   "outputs": [
    {
     "ename": "IndentationError",
     "evalue": "expected an indented block (2075932006.py, line 24)",
     "output_type": "error",
     "traceback": [
      "\u001b[0;36m  Cell \u001b[0;32mIn[25], line 24\u001b[0;36m\u001b[0m\n\u001b[0;31m    except:\u001b[0m\n\u001b[0m           ^\u001b[0m\n\u001b[0;31mIndentationError\u001b[0m\u001b[0;31m:\u001b[0m expected an indented block\n"
     ]
    }
   ],
   "source": [
    "import requests\n",
    "import json\n",
    "from pprint import pprint\n",
    "from bs4 import BeautifulSoup\n",
    "import os\n",
    "def save_images(label_info:str,image_dir):\n",
    "    # example label_info input: lor_0034583522_0x630_sci.yml\n",
    "    if label_info.endswith(\".yml\"):\n",
    "         label_info = label_info.removesuffix(\".yml\")\n",
    "    if label_info.startswith(\"E\"):\n",
    "         label_info = label_info.removeprefix(\"E\")\n",
    "\n",
    "\n",
    "    if label_info.endswith(\"_1__label\"):\n",
    "         label_info = label_info.removesuffix(\"_1__label\")\n",
    "    elif label_info.endswith(\"_label\"):\n",
    "         label_info = label_info.removesuffix(\"_label\")\n",
    "    \n",
    "\n",
    "\n",
    "    try:\n",
    "        url = requests.get(f\"https://pds-imaging.jpl.nasa.gov/solr/pds_archives/search?identifier=*{label_info}*\")\n",
    "\n",
    "        url_load = BeautifulSoup(url.text,'html.parser')\n",
    "\n",
    "        url_load_json = json.loads(url_load.text)\n",
    "\n",
    "        image_s = url_load_json['response']['docs'][0]['ATLAS_BROWSE_URL']\n",
    "\n",
    "\n",
    "\n",
    "        response = requests.get(image_s)\n",
    "\n",
    "        img_path = os.path.join(image_dir,label_info)\n",
    "        with open(img_path, \"wb\") as file:\n",
    "                file.write(response)\n",
    "                \n",
    "    except:\n",
    "         raise Exception(f\"Error on downloadin image {label_info} with {image_dir}\")\n",
    "    "
   ]
  },
  {
   "cell_type": "code",
   "execution_count": null,
   "metadata": {},
   "outputs": [],
   "source": []
  }
 ],
 "metadata": {
  "kernelspec": {
   "display_name": "Python 3",
   "language": "python",
   "name": "python3"
  },
  "language_info": {
   "codemirror_mode": {
    "name": "ipython",
    "version": 3
   },
   "file_extension": ".py",
   "mimetype": "text/x-python",
   "name": "python",
   "nbconvert_exporter": "python",
   "pygments_lexer": "ipython3",
   "version": "3.9.6"
  }
 },
 "nbformat": 4,
 "nbformat_minor": 2
}
