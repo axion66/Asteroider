{
 "cells": [
  {
   "cell_type": "code",
   "execution_count": null,
   "metadata": {},
   "outputs": [],
   "source": [
    "\n",
    "\n",
    "from image_loaders_dummies.load_dataset import *\n",
    "from pprint import pprint\n",
    "paths = process_yml_files(\"plume(nasa)\")\n"
   ]
  },
  {
   "cell_type": "markdown",
   "metadata": {},
   "source": [
    "### Don't use this load_img.ipynb and load_dataset.py unless the dataset plume(nasa) has a problem.\n",
    "### It's trash code."
   ]
  },
  {
   "cell_type": "code",
   "execution_count": null,
   "metadata": {},
   "outputs": [],
   "source": [
    "pprint(paths)"
   ]
  },
  {
   "cell_type": "code",
   "execution_count": 2,
   "metadata": {},
   "outputs": [],
   "source": [
    "outdated = []\n",
    "for path in paths:\n",
    "    if (\"galileo\" in  path['img_path']):\n",
    "        #out = save_images(path['label_info'],path['img_path'])\n",
    "        if path['label_info'] in galileo_images.keys():\n",
    "            \n",
    "            outdated.append(\n",
    "                {\n",
    "                    \"img_path\": path['img_path'],\n",
    "                    \"url\": f\"https://pds-imaging.jpl.nasa.gov/search/?fq=-ATLAS_THUMBNAIL_URL%3Abrwsnotavail.jpg&q={galileo_images[path['label_info']]}\",\n",
    "                    \"status_code\": path['label_info'],\n",
    "                    \"yml_path\": path['yml_path']\n",
    "                }\n",
    "            )"
   ]
  },
  {
   "cell_type": "code",
   "execution_count": null,
   "metadata": {},
   "outputs": [],
   "source": [
    "pprint(outdated)"
   ]
  },
  {
   "cell_type": "code",
   "execution_count": null,
   "metadata": {},
   "outputs": [],
   "source": [
    "# image urls done manually\n",
    "image_urls = [\n",
    "    \"https://planetarydata.jpl.nasa.gov/img/data/galileo/galileo_orbiter/go_0019/extras/browse/g8/io/c039450/5045r.jpeg\",\n",
    "    \"https://planetarydata.jpl.nasa.gov/img/data/galileo/galileo_orbiter/go_0019/extras/browse/c9/io/c040186/3204r.jpeg\",\n",
    "    \"https://planetarydata.jpl.nasa.gov/img/data/galileo/galileo_orbiter/go_0019/extras/browse/c10/io/c041374/4204r.jpeg\",\n",
    "    \"https://planetarydata.jpl.nasa.gov/img/data/galileo/galileo_orbiter/go_0020/extras/browse/e11/io/c042074/3485r.jpeg\",\n",
    "    \"https://planetarydata.jpl.nasa.gov/img/data/galileo/galileo_orbiter/go_0017/extras/browse/g2/io/c035964/6300r.jpeg\",\n",
    "    \"https://planetarydata.jpl.nasa.gov/img/data/galileo/galileo_orbiter/go_0019/extras/browse/g8/io/c039448/8645r.jpeg\",\n",
    "    \"https://planetarydata.jpl.nasa.gov/img/data/galileo/galileo_orbiter/go_0017/extras/browse/c3/io/c036864/1300r.jpeg\",\n",
    "    \"https://planetarydata.jpl.nasa.gov/img/data/galileo/galileo_orbiter/go_0019/extras/browse/c9/io/c040186/3200r.jpeg\",\n",
    "    \"https://planetarydata.jpl.nasa.gov/img/data/galileo/galileo_orbiter/go_0019/extras/browse/g8/io/c039450/5100r.jpeg\",\n",
    "    \"https://planetarydata.jpl.nasa.gov/img/data/galileo/galileo_orbiter/go_0019/extras/browse/c9/io/c040186/3178r.jpeg\",\n",
    "    \"https://planetarydata.jpl.nasa.gov/img/data/galileo/galileo_orbiter/go_0023/extras/browse/i31/io/c061532/5547r.jpeg\",\n",
    "    \"https://planetarydata.jpl.nasa.gov/img/data/galileo/galileo_orbiter/go_0019/extras/browse/g8/io/c039450/5123r.jpeg\",\n",
    "    \"https://planetarydata.jpl.nasa.gov/img/data/galileo/galileo_orbiter/go_0020/extras/browse/e11/io/c042073/0085r.jpeg\",\n",
    "    \"https://planetarydata.jpl.nasa.gov/img/data/galileo/galileo_orbiter/go_0019/extras/browse/c10/io/c041374/4207r.jpeg\",\n",
    "    \"https://planetarydata.jpl.nasa.gov/img/data/galileo/galileo_orbiter/go_0019/extras/browse/g8/io/c039448/8723r.jpeg\",\n",
    "    \"https://planetarydata.jpl.nasa.gov/img/data/galileo/galileo_orbiter/go_0019/extras/browse/c9/io/c040186/3207r.jpeg\",\n",
    "    \"https://planetarydata.jpl.nasa.gov/img/data/galileo/galileo_orbiter/go_0019/extras/browse/g8/io/c039455/2445r.jpeg\",\n",
    "    \"https://planetarydata.jpl.nasa.gov/img/data/galileo/galileo_orbiter/go_0019/extras/browse/g8/io/c039448/8700r.jpeg\",\n",
    "    \"https://planetarydata.jpl.nasa.gov/img/data/galileo/galileo_orbiter/go_0017/extras/browse/g2/callisto/c036032/2900r.jpeg\",\n",
    "    \"https://planetarydata.jpl.nasa.gov/img/data/galileo/galileo_orbiter/go_0023/extras/browse/i31/callisto/c061535/4301r.jpeg\",\n",
    "    \"https://planetarydata.jpl.nasa.gov/img/data/galileo/galileo_orbiter/go_0018/extras/browse/g7/callisto/c038955/6200r.jpeg\",\n",
    "    \"https://planetarydata.jpl.nasa.gov/img/data/galileo/galileo_orbiter/go_0023/extras/browse/i31/callisto/c061535/4300r.jpeg\",\n",
    "    \"https://planetarydata.jpl.nasa.gov/img/data/galileo/galileo_orbiter/go_0023/extras/browse/c30/callisto/c060527/1600r.jpeg\",\n",
    "    \"https://planetarydata.jpl.nasa.gov/img/data/galileo/galileo_orbiter/go_0023/extras/browse/c30/callisto/c060527/1901r.jpeg\",\n",
    "    \"https://planetarydata.jpl.nasa.gov/img/data/galileo/galileo_orbiter/go_0023/extras/browse/c30/callisto/c060527/2201r.jpeg\",\n",
    "    \"https://planetarydata.jpl.nasa.gov/img/data/galileo/galileo_orbiter/go_0020/extras/browse/e12/europa/c042623/4652r.jpeg\",\n",
    "    \"https://planetarydata.jpl.nasa.gov/img/data/galileo/galileo_orbiter/go_0020/extras/browse/e14/europa/c044098/4878r.jpeg\",\n",
    "    \"https://planetarydata.jpl.nasa.gov/img/data/galileo/galileo_orbiter/go_0020/extras/browse/e14/europa/c044098/4978r.jpeg\",\n",
    "    \"https://planetarydata.jpl.nasa.gov/img/data/galileo/galileo_orbiter/go_0022/extras/browse/i25/europa/c052728/6452r.jpeg\",\n",
    "    \"https://planetarydata.jpl.nasa.gov/img/data/galileo/galileo_orbiter/go_0020/extras/browse/e14/europa/c044098/5039r.jpeg\",   \n",
    "    \"https://planetarydata.jpl.nasa.gov/img/data/galileo/galileo_orbiter/go_0020/extras/browse/e14/europa/c044098/4901r.jpeg\",\n",
    "    \"https://planetarydata.jpl.nasa.gov/img/data/galileo/galileo_orbiter/go_0021/extras/browse/e19/europa/c048488/4726r.jpeg\",\n",
    "    \"https://planetarydata.jpl.nasa.gov/img/data/galileo/galileo_orbiter/go_0019/extras/browse/c10/europa/c041374/2778r.jpeg\",\n",
    "    \"https://planetarydata.jpl.nasa.gov/img/data/galileo/galileo_orbiter/go_0020/extras/browse/e12/europa/c042623/4626r.jpeg\",\n",
    "    \"https://planetarydata.jpl.nasa.gov/img/data/galileo/galileo_orbiter/go_0017/extras/browse/g1/europa/c034987/5139r.jpeg\",\n",
    "    \"https://planetarydata.jpl.nasa.gov/img/data/galileo/galileo_orbiter/go_0022/extras/browse/i25/europa/c052728/6314r.jpeg\",\n",
    "    \"https://planetarydata.jpl.nasa.gov/img/data/galileo/galileo_orbiter/go_0020/extras/browse/e12/europa/c042623/4639r.jpeg\",\n",
    "    \"https://planetarydata.jpl.nasa.gov/img/data/galileo/galileo_orbiter/go_0020/extras/browse/e14/europa/c044098/4965r.jpeg\",\n",
    "    \"https://planetarydata.jpl.nasa.gov/img/data/galileo/galileo_orbiter/go_0020/extras/browse/e14/europa/c044098/5026r.jpeg\",\n",
    "    \"https://planetarydata.jpl.nasa.gov/img/data/galileo/galileo_orbiter/go_0018/extras/browse/g7/europa/c038970/4500r.jpeg\",\n",
    "    \"https://planetarydata.jpl.nasa.gov/img/data/galileo/galileo_orbiter/go_0020/extras/browse/e14/europa/c044098/5000r.jpeg\",\n",
    "    \"https://planetarydata.jpl.nasa.gov/img/data/galileo/galileo_orbiter/go_0020/extras/browse/e14/europa/c044098/5052r.jpeg\",\n",
    "    \"https://planetarydata.jpl.nasa.gov/img/data/galileo/galileo_orbiter/go_0020/extras/browse/e14/europa/c044098/4914r.jpeg\",\n",
    "    \"https://planetarydata.jpl.nasa.gov/img/data/galileo/galileo_orbiter/go_0022/extras/browse/i25/europa/c052728/6366r.jpeg\"\n",
    "    \"https://planetarydata.jpl.nasa.gov/img/data/galileo/galileo_orbiter/go_0020/extras/browse/e15/europa/c044997/4429r.jpeg\",\n",
    "    \"https://planetarydata.jpl.nasa.gov/img/data/galileo/galileo_orbiter/go_0022/extras/browse/i25/europa/c052728/6427r.jpeg\",\n",
    "    \"https://planetarydata.jpl.nasa.gov/img/data/galileo/galileo_orbiter/go_0018/extras/browse/e6/ganymede/c038388/1513r.jpeg\",\n",
    "    \"https://planetarydata.jpl.nasa.gov/img/data/galileo/galileo_orbiter/go_0023/extras/browse/c30/ganymede/c060508/8200r.jpeg\",\n",
    "    \"https://planetarydata.jpl.nasa.gov/img/data/galileo/galileo_orbiter/go_0021/extras/browse/c20/ganymede/c049811/6900r.jpeg\",\n",
    "    \"https://planetarydata.jpl.nasa.gov/img/data/galileo/galileo_orbiter/go_0019/extras/browse/c9/ganymede/c040170/1039r.jpeg\",\n",
    "    \"https://planetarydata.jpl.nasa.gov/img/data/galileo/galileo_orbiter/go_0023/extras/browse/c30/ganymede/c060508/7600r.jpeg\",\n",
    "    \"https://planetarydata.jpl.nasa.gov/img/data/galileo/galileo_orbiter/go_0018/extras/browse/e6/ganymede/c038388/1500r.jpeg\",\n",
    "    \"https://planetarydata.jpl.nasa.gov/img/data/galileo/galileo_orbiter/go_0019/extras/browse/c9/ganymede/c040170/1078r.jpeg\",\n",
    "    \"https://planetarydata.jpl.nasa.gov/img/data/galileo/galileo_orbiter/go_0017/extras/browse/g1/ganymede/c034963/2000r.jpeg\",\n",
    "    \"https://planetarydata.jpl.nasa.gov/img/data/galileo/galileo_orbiter/go_0019/extras/browse/c9/ganymede/c040170/1026r.jpeg\",\n",
    "    \"https://planetarydata.jpl.nasa.gov/img/data/galileo/galileo_orbiter/go_0019/extras/browse/c9/ganymede/c040170/1000r.jpeg\",\n",
    "    \"https://planetarydata.jpl.nasa.gov/img/data/galileo/galileo_orbiter/go_0020/extras/browse/e14/ganymede/c044101/3078r.jpeg\",\n",
    "    \"https://planetarydata.jpl.nasa.gov/img/data/galileo/galileo_orbiter/go_0023/extras/browse/c30/ganymede/c060508/7900r.jpeg\",\n",
    "    \"https://planetarydata.jpl.nasa.gov/img/data/galileo/galileo_orbiter/go_0019/extras/browse/c9/ganymede/c040170/1013r.jpegs\"\n",
    "    \n",
    "]\n",
    "import requests\n",
    "\n",
    "for i, out in enumerate(outdated):\n",
    "    st = out['status_code']\n",
    "    contain = st.removesuffix(\"_label.yml\")\n",
    "    for img_links in image_urls:\n",
    "        if (contain in img_links): # match\n",
    "            response = requests.get(img_links)\n",
    "            if response.status_code == 200:\n",
    "                with open(out['img_path'], \"wb\") as file:\n",
    "                        file.write(response.content)\n",
    "            else:\n",
    "                print(f\"got {response.status_code} with {response} for {out['img_path']} for {img_links}\")\n",
    "\n",
    "\n",
    "\n",
    "'''\n",
    "output:\n",
    "got 404 with <Response [404]> for dataset/plume(nasa)/galileo_ssi_europa/6366r_label.jpg for https://planetarydata.jpl.nasa.gov/img/data/galileo/galileo_orbiter/go_0022/extras/browse/i25/europa/c052728/6366r.jpeghttps://planetarydata.jpl.nasa.gov/img/data/galileo/galileo_orbiter/go_0020/extras/browse/e15/europa/c044997/4429r.jpeg\n",
    "got 404 with <Response [404]> for dataset/plume(nasa)/galileo_ssi_europa/4429r_label.jpg for https://planetarydata.jpl.nasa.gov/img/data/galileo/galileo_orbiter/go_0022/extras/browse/i25/europa/c052728/6366r.jpeghttps://planetarydata.jpl.nasa.gov/img/data/galileo/galileo_orbiter/go_0020/extras/browse/e15/europa/c044997/4429r.jpeg\n",
    "got 404 with <Response [404]> for dataset/plume(nasa)/galileo_ssi_ganymede/1013r_label.jpg for https://planetarydata.jpl.nasa.gov/img/data/galileo/galileo_orbiter/go_0019/extras/browse/c9/ganymede/c040170/1013r.jpegs\n",
    "\n",
    "\n",
    "\n",
    "'''"
   ]
  },
  {
   "cell_type": "code",
   "execution_count": null,
   "metadata": {},
   "outputs": [],
   "source": []
  }
 ],
 "metadata": {
  "kernelspec": {
   "display_name": "Python 3",
   "language": "python",
   "name": "python3"
  },
  "language_info": {
   "codemirror_mode": {
    "name": "ipython",
    "version": 3
   },
   "file_extension": ".py",
   "mimetype": "text/x-python",
   "name": "python",
   "nbconvert_exporter": "python",
   "pygments_lexer": "ipython3",
   "version": "3.9.6"
  }
 },
 "nbformat": 4,
 "nbformat_minor": 2
}
