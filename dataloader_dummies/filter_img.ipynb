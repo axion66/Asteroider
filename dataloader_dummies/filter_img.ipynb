{
 "cells": [
  {
   "cell_type": "code",
   "execution_count": null,
   "metadata": {},
   "outputs": [],
   "source": [
    "from PIL import Image\n",
    "import matplotlib.pyplot as plt\n",
    "import matplotlib.patches as patches\n",
    "import numpy as np\n",
    "\n",
    "path = [\"dataset/plume(nasa)/cassini_iss_enceladus/N1635804540_1_label.jpg\",\n",
    "        \"dataset/plume(nasa)/cassini_iss_enceladus/N1635781564_1_label.yml\"]\n",
    "im = Image.open(path[0]).convert(\"L\")\n",
    "print(im.format, im.size, im.mode)\n",
    "\n",
    "coordinates = [\n",
    "    [523.9637113355857, 607.5699728864417],\n",
    "    [574.8188841231041, 613.5529343908556],\n",
    "    [708.1942957649685, 885.0711906053074],\n",
    "    [335.2281557149226, 881.0542915822164],\n",
    "    [366.06539338942724, 676.8593596696207],\n",
    "    [564.8944072035348, 611.805834552267],\n",
    "    [696.6880246213187, 699.5524529848192]\n",
    "]\n",
    "plume_intervals = [\n",
    "    [4.420045405240899, 4.4492944853422],\n",
    "    [4.4791008238535, 4.511849386881138],\n",
    "    [4.527232414027129, 4.558392715387162],\n",
    "    [4.581416530032122, 4.634673743616137],\n",
    "    [4.701362718396578, 4.739829028104275],\n",
    "    [4.755943002264073, 4.88779265759091]\n",
    "]\n",
    "\n",
    "max_x, max_y = 1024, 1024\n",
    "scaled_coordinates = [(x / max_x * 256, y / max_y * 256) for x, y in coordinates]\n",
    "\n",
    "limb_center = np.array([scaled_coordinates[0][0], scaled_coordinates[0][1]]) # first idx's point\n",
    "\n",
    "plt.imshow(im.resize((256, 256)))\n",
    "ax = plt.gca()\n",
    "\n",
    "for (x, y) in scaled_coordinates:\n",
    "    plt.plot(x, y, 'ro')\n",
    "\n",
    "radiuses = [10,15,20,25,50,100]\n",
    "for radius in radiuses:\n",
    "    for start, end in plume_intervals:\n",
    "        angle_start = np.degrees(start) \n",
    "        angle_end = np.degrees(end)\n",
    "        arc = patches.Arc(limb_center, 2 * radius, 2 * radius, angle=0,\n",
    "                        theta1=angle_start, theta2=angle_end, color='blue', lw=2)\n",
    "        ax.add_patch(arc)\n",
    "\n",
    "plt.show()\n"
   ]
  },
  {
   "cell_type": "code",
   "execution_count": 1,
   "metadata": {},
   "outputs": [
    {
     "name": "stdout",
     "output_type": "stream",
     "text": [
      "Processed 110 number of images in total.\n"
     ]
    }
   ],
   "source": [
    "from load_dataset import only_plumes\n",
    "\n",
    "only_plumes(destiny_folder=\"../dataset/filtered_only_images\")\n"
   ]
  },
  {
   "cell_type": "code",
   "execution_count": null,
   "metadata": {},
   "outputs": [],
   "source": []
  }
 ],
 "metadata": {
  "kernelspec": {
   "display_name": "base",
   "language": "python",
   "name": "python3"
  },
  "language_info": {
   "codemirror_mode": {
    "name": "ipython",
    "version": 3
   },
   "file_extension": ".py",
   "mimetype": "text/x-python",
   "name": "python",
   "nbconvert_exporter": "python",
   "pygments_lexer": "ipython3",
   "version": "3.11.7"
  }
 },
 "nbformat": 4,
 "nbformat_minor": 2
}
