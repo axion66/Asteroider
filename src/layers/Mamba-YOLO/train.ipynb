{
 "cells": [
  {
   "cell_type": "markdown",
   "metadata": {},
   "source": [
    "## YOLO Train code"
   ]
  },
  {
   "cell_type": "code",
   "execution_count": null,
   "metadata": {},
   "outputs": [],
   "source": [
    "# Imports\n",
    "from ultralytics import YOLO\n",
    "import argparse\n",
    "import os\n",
    "\n",
    "# Set Cuda device as cuda:0. (one gpu)\n",
    "os.environ['CUDA_VISIBLE_DEVICES'] = '0'  \n",
    "ROOT = os.path.abspath('.') + \"/\"\n",
    "\n"
   ]
  },
  {
   "cell_type": "markdown",
   "metadata": {},
   "source": [
    "# Configuration setup"
   ]
  },
  {
   "cell_type": "code",
   "execution_count": null,
   "metadata": {},
   "outputs": [],
   "source": [
    "\n",
    "def parse_opt():\n",
    "    parser = argparse.ArgumentParser()\n",
    "    parser.add_argument('--data', type=str, default=ROOT + '/ultralytics/cfg/datasets/coco.yaml', help='dataset.yaml path')\n",
    "    parser.add_argument('--config', type=str, default=ROOT + '/ultralytics/cfg/models/mamba-yolo/Mamba-YOLO-T.yaml', help='model path(s)')\n",
    "    parser.add_argument('--batch_size', type=int, default=16, help='batch size')\n",
    "    parser.add_argument('--imgsz', '--img', '--img-size', type=int, default=1024, help='inference size (pixels)')\n",
    "    parser.add_argument('--task', default='train', help='train, val, test, speed or study')\n",
    "    parser.add_argument('--device', default='0', help='cuda device, i.e. 0 or 0,1,2,3 or cpu')\n",
    "    parser.add_argument('--workers', type=int, default=4, help='max dataloader workers (per RANK in DDP mode)')\n",
    "    parser.add_argument('--epochs', type=int, default=30)\n",
    "    parser.add_argument('--optimizer', default='auto', help='SGD, Adam, AdamW')# SGD\n",
    "    parser.add_argument('--amp', action='store_true', help='open amp')\n",
    "    parser.add_argument('--project', default='/output_dir/', help='save to project/name')\n",
    "    parser.add_argument('--name', default='mambayolo', help='save to project/name')\n",
    "    parser.add_argument('--half', action='store_true', help='use FP16 half-precision inference')\n",
    "    parser.add_argument('--dnn', action='store_true', help='use OpenCV DNN for ONNX inference')\n",
    "    opt = parser.parse_args()\n",
    "    return opt\n",
    "\n",
    "\n",
    "\n"
   ]
  },
  {
   "cell_type": "markdown",
   "metadata": {},
   "source": [
    "### Train the model"
   ]
  },
  {
   "cell_type": "code",
   "execution_count": null,
   "metadata": {},
   "outputs": [],
   "source": [
    "if __name__ == '__main__':\n",
    "    opt = parse_opt() # Parser can be accessed using jupyter cell input.\n",
    "    task = opt.task\n",
    "    # Custom arguments for training\n",
    "    args = {\n",
    "        \"data\": ROOT + opt.data,\n",
    "        \"epochs\": 300,\n",
    "        \"workers\": opt.workers,\n",
    "        \"batch\": 8,\n",
    "        \"optimizer\": opt.optimizer,\n",
    "        \"device\": opt.device,\n",
    "        \"amp\": opt.amp,\n",
    "        \"project\": ROOT + opt.project,\n",
    "        \"name\": opt.name,\n",
    "        \"imgsz\": 1024,\n",
    "        \"flipud\": 0.5,\n",
    "        \"fliplr\":0.5,\n",
    "        \"pretrained\":False,\n",
    "        \"lr0\":0.005,\n",
    "        \"lrf\":0.001,\n",
    "        \"degrees\":170,\n",
    "        \"augment\":True,\n",
    "        \n",
    "    }\n",
    "    model_conf = ROOT + opt.config \n",
    "    task_type = {\n",
    "        \"train\": YOLO(model_conf).train(**args),\n",
    "        \"val\": YOLO(model_conf).val(**args),\n",
    "        \"test\": YOLO(model_conf).test(**args),\n",
    "    }\n",
    "    task_type.get(task)"
   ]
  }
 ],
 "metadata": {
  "language_info": {
   "name": "python"
  }
 },
 "nbformat": 4,
 "nbformat_minor": 2
}
