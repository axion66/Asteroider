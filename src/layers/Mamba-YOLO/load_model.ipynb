{
 "cells": [
  {
   "cell_type": "markdown",
   "metadata": {},
   "source": [
    "## Inference on Tiny-Mamba Yolo\n"
   ]
  },
  {
   "cell_type": "code",
   "execution_count": 1,
   "metadata": {},
   "outputs": [],
   "source": [
    "import cv2\n",
    "import numpy as np\n",
    "from PIL import Image, ImageEnhance\n",
    "from ultralytics import YOLO\n",
    "import supervision as sv\n"
   ]
  },
  {
   "cell_type": "markdown",
   "metadata": {},
   "source": [
    "## Process \"Transform\" on video and save it."
   ]
  },
  {
   "cell_type": "code",
   "execution_count": 8,
   "metadata": {},
   "outputs": [
    {
     "name": "stdout",
     "output_type": "stream",
     "text": [
      "Video saved as videos/video_transformed.mp4\n"
     ]
    }
   ],
   "source": [
    "def transform(image):\n",
    "    img = image.resize((1024, 1024), Image.Resampling.LANCZOS)\n",
    "    sharp = ImageEnhance.Sharpness(img)\n",
    "    img = sharp.enhance(6) \n",
    "    contrast = ImageEnhance.Contrast(img)\n",
    "    img = contrast.enhance(6)  \n",
    "    #img = img.resize((1024, 1024)) \n",
    "    return img\n",
    "\n",
    "input_video_path = 'videos/video.mp4'\n",
    "output_video_path = 'videos/video_transformed.mp4'\n",
    "\n",
    "cap = cv2.VideoCapture(input_video_path)\n",
    "if not cap.isOpened():\n",
    "    print(\"Error: Couldn't open video file.\")\n",
    "    exit()\n",
    "\n",
    "frame_width = int(cap.get(cv2.CAP_PROP_FRAME_WIDTH))\n",
    "frame_height = int(cap.get(cv2.CAP_PROP_FRAME_HEIGHT))\n",
    "fps = cap.get(cv2.CAP_PROP_FPS)\n",
    "\n",
    "fourcc = cv2.VideoWriter_fourcc(*'mp4v')  # 'mp4v' codec for mp4 files\n",
    "out = cv2.VideoWriter(output_video_path, fourcc, fps, (1024, 1024))  # Output size: 1024x1024\n",
    "\n",
    "while True:\n",
    "    ret, frame = cap.read()\n",
    "    if not ret:\n",
    "        break  \n",
    "    frame_pil = Image.fromarray(cv2.cvtColor(frame, cv2.COLOR_BGR2RGB))\n",
    "    transformed_frame = transform(frame_pil)\n",
    "    transformed_frame_cv = cv2.cvtColor(np.array(transformed_frame), cv2.COLOR_RGB2BGR)\n",
    "    out.write(transformed_frame_cv)\n",
    "\n",
    "cap.release()\n",
    "out.release()\n",
    "cv2.destroyAllWindows()\n",
    "\n",
    "print(f\"Video saved as {output_video_path}\")\n"
   ]
  },
  {
   "cell_type": "markdown",
   "metadata": {},
   "source": [
    "## Inference on transformed video"
   ]
  },
  {
   "cell_type": "code",
   "execution_count": null,
   "metadata": {},
   "outputs": [],
   "source": [
    "# Load YOLO model (using the trained model file)\n",
    "MODEL_PATH = \"models/last.pt\"\n",
    "model = YOLO()\n",
    "print(model)\n",
    "video_info = sv.VideoInfo.from_video_path(output_video_path)\n",
    "results = model.predict(output_video_path, stream=True,imgsz=(1024,1024))\n",
    "for result in results:\n",
    "    boxes = result.boxes  \n",
    "    masks = result.masks \n",
    "    keypoints = result.keypoints \n",
    "    probs = result.probs \n",
    "    obb = result.obb \n",
    "\n",
    "    result.show() \n"
   ]
  },
  {
   "cell_type": "markdown",
   "metadata": {},
   "source": [
    "## Infernece on Raw video (not transformed)"
   ]
  },
  {
   "cell_type": "code",
   "execution_count": null,
   "metadata": {},
   "outputs": [],
   "source": [
    "from ultralytics import YOLO\n",
    "MODEL_PATH = \"models/last.pt\"\n",
    "model = YOLO(MODEL_PATH)\n",
    "print(model)\n",
    "# Raw Plume youtube video.\n",
    "source = \"https://www.youtube.com/watch?v=nR_9YSX7T9I\"\n",
    "\n",
    "results = model.predict(source,stream=True,imgsz=(1024,1024)) \n",
    "for result in results:\n",
    "    boxes = result.boxes  \n",
    "    masks = result.masks \n",
    "    keypoints = result.keypoints \n",
    "    probs = result.probs \n",
    "    obb = result.obb \n",
    "\n",
    "    result.show() "
   ]
  }
 ],
 "metadata": {
  "kernelspec": {
   "display_name": "Python 3",
   "language": "python",
   "name": "python3"
  },
  "language_info": {
   "codemirror_mode": {
    "name": "ipython",
    "version": 3
   },
   "file_extension": ".py",
   "mimetype": "text/x-python",
   "name": "python",
   "nbconvert_exporter": "python",
   "pygments_lexer": "ipython3",
   "version": "3.11.5"
  }
 },
 "nbformat": 4,
 "nbformat_minor": 2
}
