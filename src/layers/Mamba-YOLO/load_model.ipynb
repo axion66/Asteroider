{
 "cells": [
  {
   "cell_type": "code",
   "execution_count": null,
   "metadata": {},
   "outputs": [],
   "source": [
    "import cv2\n",
    "import numpy as np\n",
    "from PIL import Image, ImageEnhance\n",
    "from ultralytics import YOLO\n",
    "import supervision as sv\n"
   ]
  },
  {
   "cell_type": "code",
   "execution_count": null,
   "metadata": {},
   "outputs": [],
   "source": []
  },
  {
   "cell_type": "code",
   "execution_count": null,
   "metadata": {},
   "outputs": [],
   "source": [
    "def transform(image):\n",
    "    '''\n",
    "    Apply sharpness and contrast enhancement, and resize to 1024x1024.\n",
    "    '''\n",
    "    sharp = ImageEnhance.Sharpness(image)\n",
    "    img = sharp.enhance(6)  # Apply sharpness enhancement\n",
    "    contrast = ImageEnhance.Contrast(img)\n",
    "    img = contrast.enhance(6)  # Apply contrast enhancement\n",
    "    img = img.resize((1024, 1024))  # Resize image to 1024x1024\n",
    "    return img\n"
   ]
  },
  {
   "cell_type": "code",
   "execution_count": null,
   "metadata": {},
   "outputs": [],
   "source": [
    "input_video_path = 'videos/video.mp4'\n",
    "output_video_path = 'videos/video_3.mp4'\n",
    "\n",
    "cap = cv2.VideoCapture(input_video_path)\n",
    "if not cap.isOpened():\n",
    "    print(\"Error: Couldn't open video file.\")\n",
    "    exit()\n",
    "\n",
    "# Get the video properties\n",
    "frame_width = int(cap.get(cv2.CAP_PROP_FRAME_WIDTH))\n",
    "frame_height = int(cap.get(cv2.CAP_PROP_FRAME_HEIGHT))\n",
    "fps = cap.get(cv2.CAP_PROP_FPS)\n",
    "\n",
    "# Define the codec and create a VideoWriter object to save the output video\n",
    "fourcc = cv2.VideoWriter_fourcc(*'mp4v')  # 'mp4v' codec for mp4 files\n",
    "out = cv2.VideoWriter(output_video_path, fourcc, fps, (1024, 1024))  # Output size: 1024x1024\n",
    "\n",
    "# Process each frame of the video\n",
    "while True:\n",
    "    ret, frame = cap.read()\n",
    "    if not ret:\n",
    "        break  # End of video\n",
    "\n",
    "    # Convert the frame (OpenCV format) to a PIL image\n",
    "    frame_pil = Image.fromarray(cv2.cvtColor(frame, cv2.COLOR_BGR2RGB))\n",
    "\n",
    "    # Apply the transformation (contrast + sharpness)\n",
    "    transformed_frame = transform(frame_pil)\n",
    "\n",
    "    # Convert the transformed image back to OpenCV format\n",
    "    transformed_frame_cv = cv2.cvtColor(np.array(transformed_frame), cv2.COLOR_RGB2BGR)\n",
    "\n",
    "    # Write the transformed frame to the output video\n",
    "    out.write(transformed_frame_cv)\n",
    "\n",
    "# Release the video objects and clean up\n",
    "cap.release()\n",
    "out.release()\n",
    "cv2.destroyAllWindows()\n",
    "\n",
    "print(f\"Video saved as {output_video_path}\")\n"
   ]
  },
  {
   "cell_type": "code",
   "execution_count": null,
   "metadata": {},
   "outputs": [],
   "source": [
    "# Load YOLO model (using the trained model file)\n",
    "model = YOLO(\"model_tiny_mambayolo/best.pt\")\n",
    "\n",
    "# Perform inference on the enhanced video\n",
    "video_info = sv.VideoInfo.from_video_path(output_video_path)\n",
    "\n",
    "# Run inference on the video using YOLO, stream the results\n",
    "results = model(output_video_path, stream=True)\n",
    "\n",
    "# Process results and extract useful information\n",
    "for result in results:\n",
    "    boxes = result.boxes  # Boxes object for bounding box outputs\n",
    "    masks = result.masks  # Masks object for segmentation outputs\n",
    "    keypoints = result.keypoints  # Keypoints object for pose outputs\n",
    "    probs = result.probs  # Probabilities for classification outputs\n",
    "    obb = result.obb  # Oriented bounding boxes object for OBB outputs\n",
    "\n",
    "    # Optional: Display the results\n",
    "    result.show()  # Display the results on-screen (can be commented out for batch processing)\n",
    "    \n",
    "    # Save the result to disk (example: save as an image)\n",
    "    result.save(filename=\"result.jpg\")\n"
   ]
  }
 ],
 "metadata": {
  "language_info": {
   "name": "python"
  }
 },
 "nbformat": 4,
 "nbformat_minor": 2
}
